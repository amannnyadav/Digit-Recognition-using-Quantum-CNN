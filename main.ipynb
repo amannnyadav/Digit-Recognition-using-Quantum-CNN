{
  "nbformat": 4,
  "nbformat_minor": 0,
  "metadata": {
    "colab": {
      "provenance": []
    },
    "kernelspec": {
      "name": "python3",
      "display_name": "Python 3"
    },
    "language_info": {
      "name": "python"
    }
  },
  "cells": [
    {
      "cell_type": "code",
      "execution_count": null,
      "metadata": {
        "colab": {
          "base_uri": "https://localhost:8080/"
        },
        "id": "Acrd1sYWnbZY",
        "outputId": "3450f498-313e-43a3-9f97-5f2fabd8b8b2"
      },
      "outputs": [
        {
          "output_type": "stream",
          "name": "stdout",
          "text": [
            "Requirement already satisfied: pennylane in /usr/local/lib/python3.10/dist-packages (0.36.0)\n",
            "Requirement already satisfied: numpy<2.0 in /usr/local/lib/python3.10/dist-packages (from pennylane) (1.25.2)\n",
            "Requirement already satisfied: scipy in /usr/local/lib/python3.10/dist-packages (from pennylane) (1.11.4)\n",
            "Requirement already satisfied: networkx in /usr/local/lib/python3.10/dist-packages (from pennylane) (3.3)\n",
            "Requirement already satisfied: rustworkx in /usr/local/lib/python3.10/dist-packages (from pennylane) (0.14.2)\n",
            "Requirement already satisfied: autograd in /usr/local/lib/python3.10/dist-packages (from pennylane) (1.6.2)\n",
            "Requirement already satisfied: toml in /usr/local/lib/python3.10/dist-packages (from pennylane) (0.10.2)\n",
            "Requirement already satisfied: appdirs in /usr/local/lib/python3.10/dist-packages (from pennylane) (1.4.4)\n",
            "Requirement already satisfied: semantic-version>=2.7 in /usr/local/lib/python3.10/dist-packages (from pennylane) (2.10.0)\n",
            "Requirement already satisfied: autoray>=0.6.1 in /usr/local/lib/python3.10/dist-packages (from pennylane) (0.6.9)\n",
            "Requirement already satisfied: cachetools in /usr/local/lib/python3.10/dist-packages (from pennylane) (5.3.3)\n",
            "Requirement already satisfied: pennylane-lightning>=0.36 in /usr/local/lib/python3.10/dist-packages (from pennylane) (0.36.0)\n",
            "Requirement already satisfied: requests in /usr/local/lib/python3.10/dist-packages (from pennylane) (2.31.0)\n",
            "Requirement already satisfied: typing-extensions in /usr/local/lib/python3.10/dist-packages (from pennylane) (4.11.0)\n",
            "Requirement already satisfied: future>=0.15.2 in /usr/local/lib/python3.10/dist-packages (from autograd->pennylane) (0.18.3)\n",
            "Requirement already satisfied: charset-normalizer<4,>=2 in /usr/local/lib/python3.10/dist-packages (from requests->pennylane) (3.3.2)\n",
            "Requirement already satisfied: idna<4,>=2.5 in /usr/local/lib/python3.10/dist-packages (from requests->pennylane) (3.7)\n",
            "Requirement already satisfied: urllib3<3,>=1.21.1 in /usr/local/lib/python3.10/dist-packages (from requests->pennylane) (2.0.7)\n",
            "Requirement already satisfied: certifi>=2017.4.17 in /usr/local/lib/python3.10/dist-packages (from requests->pennylane) (2024.2.2)\n"
          ]
        }
      ],
      "source": [
        "pip install pennylane"
      ]
    },
    {
      "cell_type": "code",
      "source": [
        "import pennylane as qml\n",
        "from pennylane import numpy as np\n",
        "import tensorflow as tf\n",
        "from tensorflow import keras"
      ],
      "metadata": {
        "id": "GVJfQ2aVnge-"
      },
      "execution_count": null,
      "outputs": []
    },
    {
      "cell_type": "code",
      "source": [
        "print(\"GPU Available:\", tf.config.list_physical_devices('GPU'))"
      ],
      "metadata": {
        "colab": {
          "base_uri": "https://localhost:8080/"
        },
        "id": "VKD5UC-PnnTR",
        "outputId": "0d3bb039-a33f-44d0-dc49-387f5ceccf1e"
      },
      "execution_count": null,
      "outputs": [
        {
          "output_type": "stream",
          "name": "stdout",
          "text": [
            "GPU Available: []\n"
          ]
        }
      ]
    },
    {
      "cell_type": "code",
      "source": [
        "tf.config.set_visible_devices([], 'GPU')  # Disable any GPUs initially\n",
        "physical_devices = tf.config.list_physical_devices('GPU')\n",
        "if len(physical_devices) > 0:\n",
        "    tf.config.set_visible_devices(physical_devices[0], 'GPU')  # Enable the first GPU\n",
        "    print(\"GPU Enabled:\", physical_devices[0])\n",
        "else:\n",
        "    print(\"No GPU available.\")"
      ],
      "metadata": {
        "colab": {
          "base_uri": "https://localhost:8080/"
        },
        "id": "CHMlXBNTnnM8",
        "outputId": "10bf2d6b-0fd1-49d0-c60d-3d0f57c9b3e0"
      },
      "execution_count": null,
      "outputs": [
        {
          "output_type": "stream",
          "name": "stdout",
          "text": [
            "No GPU available.\n"
          ]
        }
      ]
    },
    {
      "cell_type": "code",
      "source": [
        "# Define the number of random layers\n",
        "n_layers = 1\n",
        "\n",
        "# Define the quantum circuit\n",
        "dev = qml.device(\"default.qubit\", wires=4)\n",
        "\n",
        "@qml.qnode(dev)\n",
        "def circuit(phi, weights):\n",
        "    for j in range(4):\n",
        "        qml.RY(np.pi * phi[j], wires=j)\n",
        "    qml.templates.RandomLayers(weights, wires=list(range(4)))\n",
        "    return [qml.expval(qml.PauliZ(j)) for j in range(4)]"
      ],
      "metadata": {
        "id": "W_uZeU0rnnHB"
      },
      "execution_count": null,
      "outputs": []
    },
    {
      "cell_type": "code",
      "source": [
        "def quanv(image):\n",
        "    out = np.zeros((14, 14, 4))\n",
        "    for j in range(0, 28, 2):\n",
        "        for k in range(0, 28, 2):\n",
        "            rand_weights = np.random.uniform(high=2 * np.pi, size=(n_layers, 4))\n",
        "            q_results = circuit(\n",
        "                [\n",
        "                    image[j, k],\n",
        "                    image[j, k + 1],\n",
        "                    image[j + 1, k],\n",
        "                    image[j + 1, k + 1]\n",
        "                ],\n",
        "                rand_weights\n",
        "            )\n",
        "            for c in range(4):\n",
        "                out[j // 2, k // 2, c] = q_results[c]\n",
        "    return out"
      ],
      "metadata": {
        "id": "YC6bOoYhnnBG"
      },
      "execution_count": null,
      "outputs": []
    },
    {
      "cell_type": "code",
      "source": [
        "# Load and preprocess a subset of the MNIST dataset (60 training images and 10 test images)\n",
        "mnist = keras.datasets.mnist\n",
        "(train_images, train_labels), (test_images, test_labels) = mnist.load_data()\n",
        "\n",
        "# Use a subset of 60 training images and 10 test images\n",
        "train_images = train_images[:8000] / 255.0\n",
        "train_labels = train_labels[:8000]\n",
        "test_images = test_images[:2000] / 255.0\n",
        "test_labels = test_labels[:2000]"
      ],
      "metadata": {
        "colab": {
          "base_uri": "https://localhost:8080/"
        },
        "id": "hHiw-wtvnm6U",
        "outputId": "b9fe8fb3-bf67-49a6-9976-8933147f6a75"
      },
      "execution_count": null,
      "outputs": [
        {
          "output_type": "stream",
          "name": "stdout",
          "text": [
            "Downloading data from https://storage.googleapis.com/tensorflow/tf-keras-datasets/mnist.npz\n",
            "11490434/11490434 [==============================] - 0s 0us/step\n"
          ]
        }
      ]
    },
    {
      "cell_type": "code",
      "source": [
        "# Preprocess images for quantum processing\n",
        "q_train_images = np.array([quanv(img) for img in train_images])\n",
        "q_test_images = np.array([quanv(img) for img in test_images])"
      ],
      "metadata": {
        "id": "mNB-4Dl4nmoZ"
      },
      "execution_count": null,
      "outputs": []
    },
    {
      "cell_type": "code",
      "source": [
        "# Build the classical model\n",
        "def MyModel():\n",
        "    model = keras.models.Sequential([\n",
        "        keras.layers.Flatten(input_shape=(14, 14, 4)),\n",
        "        keras.layers.Dense(128, activation='relu'), #non linearity\n",
        "        keras.layers.Dropout(0.2),\n",
        "        keras.layers.Dense(10, activation='softmax') #normalization\n",
        "    ])\n",
        "    model.compile(\n",
        "        optimizer='adam',\n",
        "        loss='sparse_categorical_crossentropy',\n",
        "        metrics=['accuracy']\n",
        "    )\n",
        "    return model"
      ],
      "metadata": {
        "id": "1JZRzO0Fnz1a"
      },
      "execution_count": null,
      "outputs": []
    },
    {
      "cell_type": "code",
      "source": [
        "# Train the model\n",
        "q_model = MyModel()\n",
        "\n",
        "q_history = q_model.fit(\n",
        "    q_train_images,\n",
        "    train_labels,\n",
        "    validation_data=(q_test_images, test_labels),\n",
        "    batch_size=2000,  # Reduce batch size due to smaller dataset\n",
        "    epochs=100,\n",
        "    verbose=2\n",
        ")"
      ],
      "metadata": {
        "colab": {
          "base_uri": "https://localhost:8080/"
        },
        "id": "jlKHKK10nzrV",
        "outputId": "c3aaee14-6e91-4f07-f7a3-9eaac156673d"
      },
      "execution_count": null,
      "outputs": [
        {
          "output_type": "stream",
          "name": "stdout",
          "text": [
            "Epoch 1/100\n",
            "4/4 - 3s - loss: 2.6477 - accuracy: 0.1114 - val_loss: 2.3306 - val_accuracy: 0.1570 - 3s/epoch - 670ms/step\n",
            "Epoch 2/100\n",
            "4/4 - 0s - loss: 2.2391 - accuracy: 0.2017 - val_loss: 2.1711 - val_accuracy: 0.2140 - 263ms/epoch - 66ms/step\n",
            "Epoch 3/100\n",
            "4/4 - 0s - loss: 2.0183 - accuracy: 0.3005 - val_loss: 1.9964 - val_accuracy: 0.3150 - 285ms/epoch - 71ms/step\n",
            "Epoch 4/100\n",
            "4/4 - 0s - loss: 1.8013 - accuracy: 0.4094 - val_loss: 1.8366 - val_accuracy: 0.4130 - 146ms/epoch - 36ms/step\n",
            "Epoch 5/100\n",
            "4/4 - 0s - loss: 1.5984 - accuracy: 0.5061 - val_loss: 1.6648 - val_accuracy: 0.4790 - 164ms/epoch - 41ms/step\n",
            "Epoch 6/100\n",
            "4/4 - 0s - loss: 1.4025 - accuracy: 0.5705 - val_loss: 1.4882 - val_accuracy: 0.5415 - 159ms/epoch - 40ms/step\n",
            "Epoch 7/100\n",
            "4/4 - 0s - loss: 1.2222 - accuracy: 0.6302 - val_loss: 1.3355 - val_accuracy: 0.5880 - 137ms/epoch - 34ms/step\n",
            "Epoch 8/100\n",
            "4/4 - 0s - loss: 1.0651 - accuracy: 0.6690 - val_loss: 1.2129 - val_accuracy: 0.6260 - 137ms/epoch - 34ms/step\n",
            "Epoch 9/100\n",
            "4/4 - 0s - loss: 0.9387 - accuracy: 0.7056 - val_loss: 1.1105 - val_accuracy: 0.6550 - 139ms/epoch - 35ms/step\n",
            "Epoch 10/100\n",
            "4/4 - 0s - loss: 0.8411 - accuracy: 0.7416 - val_loss: 1.0294 - val_accuracy: 0.6750 - 136ms/epoch - 34ms/step\n",
            "Epoch 11/100\n",
            "4/4 - 0s - loss: 0.7548 - accuracy: 0.7697 - val_loss: 0.9700 - val_accuracy: 0.6915 - 139ms/epoch - 35ms/step\n",
            "Epoch 12/100\n",
            "4/4 - 0s - loss: 0.6765 - accuracy: 0.7981 - val_loss: 0.9227 - val_accuracy: 0.7055 - 151ms/epoch - 38ms/step\n",
            "Epoch 13/100\n",
            "4/4 - 0s - loss: 0.6217 - accuracy: 0.8181 - val_loss: 0.8849 - val_accuracy: 0.7195 - 143ms/epoch - 36ms/step\n",
            "Epoch 14/100\n",
            "4/4 - 0s - loss: 0.5652 - accuracy: 0.8354 - val_loss: 0.8563 - val_accuracy: 0.7270 - 140ms/epoch - 35ms/step\n",
            "Epoch 15/100\n",
            "4/4 - 0s - loss: 0.5228 - accuracy: 0.8512 - val_loss: 0.8262 - val_accuracy: 0.7380 - 148ms/epoch - 37ms/step\n",
            "Epoch 16/100\n",
            "4/4 - 0s - loss: 0.4859 - accuracy: 0.8619 - val_loss: 0.8040 - val_accuracy: 0.7450 - 145ms/epoch - 36ms/step\n",
            "Epoch 17/100\n",
            "4/4 - 0s - loss: 0.4505 - accuracy: 0.8776 - val_loss: 0.7884 - val_accuracy: 0.7450 - 168ms/epoch - 42ms/step\n",
            "Epoch 18/100\n",
            "4/4 - 0s - loss: 0.4246 - accuracy: 0.8857 - val_loss: 0.7713 - val_accuracy: 0.7540 - 155ms/epoch - 39ms/step\n",
            "Epoch 19/100\n",
            "4/4 - 0s - loss: 0.3960 - accuracy: 0.8909 - val_loss: 0.7611 - val_accuracy: 0.7535 - 189ms/epoch - 47ms/step\n",
            "Epoch 20/100\n",
            "4/4 - 0s - loss: 0.3773 - accuracy: 0.8986 - val_loss: 0.7494 - val_accuracy: 0.7600 - 157ms/epoch - 39ms/step\n",
            "Epoch 21/100\n",
            "4/4 - 0s - loss: 0.3592 - accuracy: 0.9031 - val_loss: 0.7381 - val_accuracy: 0.7630 - 148ms/epoch - 37ms/step\n",
            "Epoch 22/100\n",
            "4/4 - 0s - loss: 0.3396 - accuracy: 0.9090 - val_loss: 0.7343 - val_accuracy: 0.7635 - 163ms/epoch - 41ms/step\n",
            "Epoch 23/100\n",
            "4/4 - 0s - loss: 0.3213 - accuracy: 0.9162 - val_loss: 0.7252 - val_accuracy: 0.7660 - 185ms/epoch - 46ms/step\n",
            "Epoch 24/100\n",
            "4/4 - 0s - loss: 0.3016 - accuracy: 0.9250 - val_loss: 0.7158 - val_accuracy: 0.7680 - 178ms/epoch - 44ms/step\n",
            "Epoch 25/100\n",
            "4/4 - 0s - loss: 0.2838 - accuracy: 0.9296 - val_loss: 0.7110 - val_accuracy: 0.7715 - 167ms/epoch - 42ms/step\n",
            "Epoch 26/100\n",
            "4/4 - 0s - loss: 0.2735 - accuracy: 0.9335 - val_loss: 0.7098 - val_accuracy: 0.7745 - 195ms/epoch - 49ms/step\n",
            "Epoch 27/100\n",
            "4/4 - 0s - loss: 0.2674 - accuracy: 0.9345 - val_loss: 0.7013 - val_accuracy: 0.7770 - 164ms/epoch - 41ms/step\n",
            "Epoch 28/100\n",
            "4/4 - 0s - loss: 0.2531 - accuracy: 0.9345 - val_loss: 0.7027 - val_accuracy: 0.7810 - 166ms/epoch - 42ms/step\n",
            "Epoch 29/100\n",
            "4/4 - 0s - loss: 0.2408 - accuracy: 0.9411 - val_loss: 0.6969 - val_accuracy: 0.7830 - 161ms/epoch - 40ms/step\n",
            "Epoch 30/100\n",
            "4/4 - 0s - loss: 0.2320 - accuracy: 0.9449 - val_loss: 0.6911 - val_accuracy: 0.7860 - 147ms/epoch - 37ms/step\n",
            "Epoch 31/100\n",
            "4/4 - 0s - loss: 0.2207 - accuracy: 0.9489 - val_loss: 0.6929 - val_accuracy: 0.7860 - 197ms/epoch - 49ms/step\n",
            "Epoch 32/100\n",
            "4/4 - 0s - loss: 0.2108 - accuracy: 0.9506 - val_loss: 0.6864 - val_accuracy: 0.7865 - 153ms/epoch - 38ms/step\n",
            "Epoch 33/100\n",
            "4/4 - 0s - loss: 0.1975 - accuracy: 0.9580 - val_loss: 0.6851 - val_accuracy: 0.7875 - 164ms/epoch - 41ms/step\n",
            "Epoch 34/100\n",
            "4/4 - 0s - loss: 0.1929 - accuracy: 0.9564 - val_loss: 0.6847 - val_accuracy: 0.7865 - 172ms/epoch - 43ms/step\n",
            "Epoch 35/100\n",
            "4/4 - 0s - loss: 0.1841 - accuracy: 0.9620 - val_loss: 0.6813 - val_accuracy: 0.7860 - 159ms/epoch - 40ms/step\n",
            "Epoch 36/100\n",
            "4/4 - 0s - loss: 0.1765 - accuracy: 0.9616 - val_loss: 0.6772 - val_accuracy: 0.7890 - 154ms/epoch - 38ms/step\n",
            "Epoch 37/100\n",
            "4/4 - 0s - loss: 0.1706 - accuracy: 0.9660 - val_loss: 0.6775 - val_accuracy: 0.7860 - 169ms/epoch - 42ms/step\n",
            "Epoch 38/100\n",
            "4/4 - 0s - loss: 0.1643 - accuracy: 0.9663 - val_loss: 0.6773 - val_accuracy: 0.7860 - 145ms/epoch - 36ms/step\n",
            "Epoch 39/100\n",
            "4/4 - 0s - loss: 0.1555 - accuracy: 0.9705 - val_loss: 0.6775 - val_accuracy: 0.7880 - 147ms/epoch - 37ms/step\n",
            "Epoch 40/100\n",
            "4/4 - 0s - loss: 0.1528 - accuracy: 0.9695 - val_loss: 0.6751 - val_accuracy: 0.7885 - 141ms/epoch - 35ms/step\n",
            "Epoch 41/100\n",
            "4/4 - 0s - loss: 0.1463 - accuracy: 0.9720 - val_loss: 0.6757 - val_accuracy: 0.7895 - 129ms/epoch - 32ms/step\n",
            "Epoch 42/100\n",
            "4/4 - 0s - loss: 0.1404 - accuracy: 0.9724 - val_loss: 0.6768 - val_accuracy: 0.7905 - 157ms/epoch - 39ms/step\n",
            "Epoch 43/100\n",
            "4/4 - 0s - loss: 0.1343 - accuracy: 0.9760 - val_loss: 0.6770 - val_accuracy: 0.7900 - 142ms/epoch - 36ms/step\n",
            "Epoch 44/100\n",
            "4/4 - 0s - loss: 0.1315 - accuracy: 0.9770 - val_loss: 0.6764 - val_accuracy: 0.7870 - 152ms/epoch - 38ms/step\n",
            "Epoch 45/100\n",
            "4/4 - 0s - loss: 0.1240 - accuracy: 0.9797 - val_loss: 0.6762 - val_accuracy: 0.7880 - 147ms/epoch - 37ms/step\n",
            "Epoch 46/100\n",
            "4/4 - 0s - loss: 0.1213 - accuracy: 0.9797 - val_loss: 0.6753 - val_accuracy: 0.7890 - 139ms/epoch - 35ms/step\n",
            "Epoch 47/100\n",
            "4/4 - 0s - loss: 0.1162 - accuracy: 0.9801 - val_loss: 0.6761 - val_accuracy: 0.7875 - 149ms/epoch - 37ms/step\n",
            "Epoch 48/100\n",
            "4/4 - 0s - loss: 0.1156 - accuracy: 0.9793 - val_loss: 0.6730 - val_accuracy: 0.7930 - 153ms/epoch - 38ms/step\n",
            "Epoch 49/100\n",
            "4/4 - 0s - loss: 0.1073 - accuracy: 0.9825 - val_loss: 0.6751 - val_accuracy: 0.7915 - 156ms/epoch - 39ms/step\n",
            "Epoch 50/100\n",
            "4/4 - 0s - loss: 0.1078 - accuracy: 0.9831 - val_loss: 0.6767 - val_accuracy: 0.7930 - 148ms/epoch - 37ms/step\n",
            "Epoch 51/100\n",
            "4/4 - 0s - loss: 0.1018 - accuracy: 0.9829 - val_loss: 0.6732 - val_accuracy: 0.7965 - 158ms/epoch - 39ms/step\n",
            "Epoch 52/100\n",
            "4/4 - 0s - loss: 0.1003 - accuracy: 0.9859 - val_loss: 0.6761 - val_accuracy: 0.7935 - 163ms/epoch - 41ms/step\n",
            "Epoch 53/100\n",
            "4/4 - 0s - loss: 0.0931 - accuracy: 0.9869 - val_loss: 0.6797 - val_accuracy: 0.7930 - 150ms/epoch - 38ms/step\n",
            "Epoch 54/100\n",
            "4/4 - 0s - loss: 0.0906 - accuracy: 0.9874 - val_loss: 0.6764 - val_accuracy: 0.7930 - 145ms/epoch - 36ms/step\n",
            "Epoch 55/100\n",
            "4/4 - 0s - loss: 0.0925 - accuracy: 0.9854 - val_loss: 0.6755 - val_accuracy: 0.7940 - 155ms/epoch - 39ms/step\n",
            "Epoch 56/100\n",
            "4/4 - 0s - loss: 0.0880 - accuracy: 0.9861 - val_loss: 0.6790 - val_accuracy: 0.7910 - 159ms/epoch - 40ms/step\n",
            "Epoch 57/100\n",
            "4/4 - 0s - loss: 0.0867 - accuracy: 0.9893 - val_loss: 0.6802 - val_accuracy: 0.7900 - 188ms/epoch - 47ms/step\n",
            "Epoch 58/100\n",
            "4/4 - 0s - loss: 0.0823 - accuracy: 0.9895 - val_loss: 0.6792 - val_accuracy: 0.7905 - 155ms/epoch - 39ms/step\n",
            "Epoch 59/100\n",
            "4/4 - 0s - loss: 0.0805 - accuracy: 0.9889 - val_loss: 0.6766 - val_accuracy: 0.7925 - 144ms/epoch - 36ms/step\n",
            "Epoch 60/100\n",
            "4/4 - 0s - loss: 0.0775 - accuracy: 0.9904 - val_loss: 0.6800 - val_accuracy: 0.7875 - 144ms/epoch - 36ms/step\n",
            "Epoch 61/100\n",
            "4/4 - 0s - loss: 0.0732 - accuracy: 0.9919 - val_loss: 0.6817 - val_accuracy: 0.7915 - 240ms/epoch - 60ms/step\n",
            "Epoch 62/100\n",
            "4/4 - 0s - loss: 0.0752 - accuracy: 0.9894 - val_loss: 0.6794 - val_accuracy: 0.7905 - 256ms/epoch - 64ms/step\n",
            "Epoch 63/100\n",
            "4/4 - 0s - loss: 0.0716 - accuracy: 0.9911 - val_loss: 0.6796 - val_accuracy: 0.7915 - 277ms/epoch - 69ms/step\n",
            "Epoch 64/100\n",
            "4/4 - 0s - loss: 0.0671 - accuracy: 0.9915 - val_loss: 0.6809 - val_accuracy: 0.7935 - 296ms/epoch - 74ms/step\n",
            "Epoch 65/100\n",
            "4/4 - 0s - loss: 0.0694 - accuracy: 0.9909 - val_loss: 0.6827 - val_accuracy: 0.7915 - 241ms/epoch - 60ms/step\n",
            "Epoch 66/100\n",
            "4/4 - 0s - loss: 0.0622 - accuracy: 0.9930 - val_loss: 0.6823 - val_accuracy: 0.7930 - 266ms/epoch - 66ms/step\n",
            "Epoch 67/100\n",
            "4/4 - 0s - loss: 0.0659 - accuracy: 0.9924 - val_loss: 0.6825 - val_accuracy: 0.7915 - 240ms/epoch - 60ms/step\n",
            "Epoch 68/100\n",
            "4/4 - 0s - loss: 0.0639 - accuracy: 0.9925 - val_loss: 0.6863 - val_accuracy: 0.7925 - 255ms/epoch - 64ms/step\n",
            "Epoch 69/100\n",
            "4/4 - 0s - loss: 0.0610 - accuracy: 0.9930 - val_loss: 0.6872 - val_accuracy: 0.7910 - 246ms/epoch - 62ms/step\n",
            "Epoch 70/100\n",
            "4/4 - 0s - loss: 0.0589 - accuracy: 0.9935 - val_loss: 0.6859 - val_accuracy: 0.7920 - 266ms/epoch - 67ms/step\n",
            "Epoch 71/100\n",
            "4/4 - 0s - loss: 0.0577 - accuracy: 0.9949 - val_loss: 0.6885 - val_accuracy: 0.7910 - 259ms/epoch - 65ms/step\n",
            "Epoch 72/100\n",
            "4/4 - 0s - loss: 0.0577 - accuracy: 0.9925 - val_loss: 0.6908 - val_accuracy: 0.7925 - 272ms/epoch - 68ms/step\n",
            "Epoch 73/100\n",
            "4/4 - 0s - loss: 0.0583 - accuracy: 0.9924 - val_loss: 0.6906 - val_accuracy: 0.7935 - 255ms/epoch - 64ms/step\n",
            "Epoch 74/100\n",
            "4/4 - 0s - loss: 0.0513 - accuracy: 0.9946 - val_loss: 0.6923 - val_accuracy: 0.7915 - 154ms/epoch - 38ms/step\n",
            "Epoch 75/100\n",
            "4/4 - 0s - loss: 0.0551 - accuracy: 0.9931 - val_loss: 0.6946 - val_accuracy: 0.7925 - 169ms/epoch - 42ms/step\n",
            "Epoch 76/100\n",
            "4/4 - 0s - loss: 0.0531 - accuracy: 0.9946 - val_loss: 0.6951 - val_accuracy: 0.7935 - 139ms/epoch - 35ms/step\n",
            "Epoch 77/100\n",
            "4/4 - 0s - loss: 0.0490 - accuracy: 0.9951 - val_loss: 0.6935 - val_accuracy: 0.7955 - 145ms/epoch - 36ms/step\n",
            "Epoch 78/100\n",
            "4/4 - 0s - loss: 0.0499 - accuracy: 0.9950 - val_loss: 0.6940 - val_accuracy: 0.7930 - 172ms/epoch - 43ms/step\n",
            "Epoch 79/100\n",
            "4/4 - 0s - loss: 0.0468 - accuracy: 0.9954 - val_loss: 0.6971 - val_accuracy: 0.7910 - 152ms/epoch - 38ms/step\n",
            "Epoch 80/100\n",
            "4/4 - 0s - loss: 0.0465 - accuracy: 0.9958 - val_loss: 0.7003 - val_accuracy: 0.7915 - 147ms/epoch - 37ms/step\n",
            "Epoch 81/100\n",
            "4/4 - 0s - loss: 0.0486 - accuracy: 0.9931 - val_loss: 0.6994 - val_accuracy: 0.7920 - 191ms/epoch - 48ms/step\n",
            "Epoch 82/100\n",
            "4/4 - 0s - loss: 0.0461 - accuracy: 0.9956 - val_loss: 0.6984 - val_accuracy: 0.7935 - 149ms/epoch - 37ms/step\n",
            "Epoch 83/100\n",
            "4/4 - 0s - loss: 0.0439 - accuracy: 0.9962 - val_loss: 0.7017 - val_accuracy: 0.7910 - 175ms/epoch - 44ms/step\n",
            "Epoch 84/100\n",
            "4/4 - 0s - loss: 0.0437 - accuracy: 0.9961 - val_loss: 0.7055 - val_accuracy: 0.7870 - 148ms/epoch - 37ms/step\n",
            "Epoch 85/100\n",
            "4/4 - 0s - loss: 0.0406 - accuracy: 0.9960 - val_loss: 0.7033 - val_accuracy: 0.7925 - 152ms/epoch - 38ms/step\n",
            "Epoch 86/100\n",
            "4/4 - 0s - loss: 0.0425 - accuracy: 0.9960 - val_loss: 0.7036 - val_accuracy: 0.7910 - 157ms/epoch - 39ms/step\n",
            "Epoch 87/100\n",
            "4/4 - 0s - loss: 0.0420 - accuracy: 0.9948 - val_loss: 0.7061 - val_accuracy: 0.7895 - 151ms/epoch - 38ms/step\n",
            "Epoch 88/100\n",
            "4/4 - 0s - loss: 0.0395 - accuracy: 0.9966 - val_loss: 0.7053 - val_accuracy: 0.7920 - 160ms/epoch - 40ms/step\n",
            "Epoch 89/100\n",
            "4/4 - 0s - loss: 0.0392 - accuracy: 0.9967 - val_loss: 0.7054 - val_accuracy: 0.7895 - 147ms/epoch - 37ms/step\n",
            "Epoch 90/100\n",
            "4/4 - 0s - loss: 0.0367 - accuracy: 0.9959 - val_loss: 0.7084 - val_accuracy: 0.7885 - 158ms/epoch - 39ms/step\n",
            "Epoch 91/100\n",
            "4/4 - 0s - loss: 0.0352 - accuracy: 0.9976 - val_loss: 0.7097 - val_accuracy: 0.7895 - 155ms/epoch - 39ms/step\n",
            "Epoch 92/100\n",
            "4/4 - 0s - loss: 0.0350 - accuracy: 0.9970 - val_loss: 0.7094 - val_accuracy: 0.7915 - 146ms/epoch - 37ms/step\n",
            "Epoch 93/100\n",
            "4/4 - 0s - loss: 0.0355 - accuracy: 0.9969 - val_loss: 0.7083 - val_accuracy: 0.7930 - 140ms/epoch - 35ms/step\n",
            "Epoch 94/100\n",
            "4/4 - 0s - loss: 0.0357 - accuracy: 0.9965 - val_loss: 0.7101 - val_accuracy: 0.7920 - 178ms/epoch - 45ms/step\n",
            "Epoch 95/100\n",
            "4/4 - 0s - loss: 0.0353 - accuracy: 0.9973 - val_loss: 0.7120 - val_accuracy: 0.7890 - 154ms/epoch - 39ms/step\n",
            "Epoch 96/100\n",
            "4/4 - 0s - loss: 0.0337 - accuracy: 0.9974 - val_loss: 0.7129 - val_accuracy: 0.7905 - 146ms/epoch - 36ms/step\n",
            "Epoch 97/100\n",
            "4/4 - 0s - loss: 0.0346 - accuracy: 0.9969 - val_loss: 0.7136 - val_accuracy: 0.7915 - 148ms/epoch - 37ms/step\n",
            "Epoch 98/100\n",
            "4/4 - 0s - loss: 0.0339 - accuracy: 0.9964 - val_loss: 0.7164 - val_accuracy: 0.7905 - 149ms/epoch - 37ms/step\n",
            "Epoch 99/100\n",
            "4/4 - 0s - loss: 0.0334 - accuracy: 0.9970 - val_loss: 0.7166 - val_accuracy: 0.7905 - 142ms/epoch - 35ms/step\n",
            "Epoch 100/100\n",
            "4/4 - 0s - loss: 0.0319 - accuracy: 0.9969 - val_loss: 0.7181 - val_accuracy: 0.7910 - 144ms/epoch - 36ms/step\n"
          ]
        }
      ]
    },
    {
      "cell_type": "code",
      "source": [
        "# Evaluate the model\n",
        "test_loss, test_acc = q_model.evaluate(q_test_images, test_labels, verbose=2)\n",
        "print('\\nTest accuracy:', test_acc)"
      ],
      "metadata": {
        "colab": {
          "base_uri": "https://localhost:8080/"
        },
        "id": "WmbNpvdGnzj-",
        "outputId": "a93c6bfb-9f6e-40ac-d489-7f09b0550812"
      },
      "execution_count": null,
      "outputs": [
        {
          "output_type": "stream",
          "name": "stdout",
          "text": [
            "63/63 - 0s - loss: 0.7181 - accuracy: 0.7910 - 261ms/epoch - 4ms/step\n",
            "\n",
            "Test accuracy: 0.7910000085830688\n"
          ]
        }
      ]
    },
    {
      "cell_type": "code",
      "source": [
        "# Get predictions for the test data\n",
        "predictions = q_model.predict(q_test_images)\n",
        "predicted_labels = np.argmax(predictions, axis=1)\n",
        "\n",
        "# Display original and predicted labels for 10 test data points\n",
        "print(\"Original and Predicted Labels for 10 Test Data Points:\")\n",
        "for i in range(10):\n",
        "    print(f\"Data Point {i + 1}: Original Label - {test_labels[i]}, Predicted Label - {predicted_labels[i]}\")\n"
      ],
      "metadata": {
        "colab": {
          "base_uri": "https://localhost:8080/"
        },
        "id": "YUoT-hLBzlW-",
        "outputId": "386b7ae9-ad0f-4ab4-ef99-1ed718adcd89"
      },
      "execution_count": null,
      "outputs": [
        {
          "output_type": "stream",
          "name": "stdout",
          "text": [
            "63/63 [==============================] - 0s 6ms/step\n",
            "Original and Predicted Labels for 10 Test Data Points:\n",
            "Data Point 1: Original Label - 7, Predicted Label - 7\n",
            "Data Point 2: Original Label - 2, Predicted Label - 2\n",
            "Data Point 3: Original Label - 1, Predicted Label - 1\n",
            "Data Point 4: Original Label - 0, Predicted Label - 0\n",
            "Data Point 5: Original Label - 4, Predicted Label - 4\n",
            "Data Point 6: Original Label - 1, Predicted Label - 1\n",
            "Data Point 7: Original Label - 4, Predicted Label - 9\n",
            "Data Point 8: Original Label - 9, Predicted Label - 9\n",
            "Data Point 9: Original Label - 5, Predicted Label - 6\n",
            "Data Point 10: Original Label - 9, Predicted Label - 9\n"
          ]
        }
      ]
    },
    {
      "cell_type": "code",
      "source": [
        "import matplotlib.pyplot as plt\n",
        "\n",
        "# Plotting epoch vs accuracy graph\n",
        "plt.figure(figsize=(8, 6))\n",
        "plt.plot(q_history.history['accuracy'], label='Training Accuracy')\n",
        "plt.plot(q_history.history['val_accuracy'], label='Test Accuracy')\n",
        "plt.xlabel('Epoch')\n",
        "plt.ylabel('Accuracy')\n",
        "plt.title('Epoch vs Accuracy')\n",
        "plt.legend()\n",
        "plt.grid(True)\n",
        "plt.show()"
      ],
      "metadata": {
        "colab": {
          "base_uri": "https://localhost:8080/",
          "height": 564
        },
        "id": "tHL4bVW02Uyx",
        "outputId": "eeff1180-c405-4cb1-8f6d-0002940cdaf9"
      },
      "execution_count": null,
      "outputs": [
        {
          "output_type": "display_data",
          "data": {
            "text/plain": [
              "<Figure size 800x600 with 1 Axes>"
            ],
            "image/png": "[encoded data removed]"
          },
          "metadata": {}
        }
      ]
    },
    {
      "cell_type": "code",
      "source": [
        "from sklearn.metrics import confusion_matrix, classification_report\n",
        "\n",
        "# Print classification report based on true labels and predicted labels\n",
        "def print_classification_report(true_labels, predicted_labels):\n",
        "    cr = classification_report(true_labels, predicted_labels)\n",
        "    print(cr)\n",
        "\n",
        "# Get predictions for the test data\n",
        "predictions = q_model.predict(q_test_images)\n",
        "predicted_labels = np.argmax(predictions, axis=1)\n",
        "\n",
        "# Print classification report based on true labels and predicted labels\n",
        "print(\"Classification Report:\")\n",
        "print_classification_report(test_labels, predicted_labels)\n"
      ],
      "metadata": {
        "colab": {
          "base_uri": "https://localhost:8080/"
        },
        "id": "smKRy38E-JWT",
        "outputId": "0f716223-a9dd-4fbd-b495-a6b8418a85d0"
      },
      "execution_count": null,
      "outputs": [
        {
          "output_type": "stream",
          "name": "stdout",
          "text": [
            "63/63 [==============================] - 0s 5ms/step\n",
            "Classification Report:\n",
            "              precision    recall  f1-score   support\n",
            "\n",
            "           0       0.91      0.93      0.92       175\n",
            "           1       0.86      0.94      0.90       234\n",
            "           2       0.84      0.76      0.80       219\n",
            "           3       0.78      0.77      0.78       207\n",
            "           4       0.77      0.80      0.78       217\n",
            "           5       0.69      0.72      0.70       179\n",
            "           6       0.78      0.78      0.78       178\n",
            "           7       0.82      0.78      0.80       205\n",
            "           8       0.71      0.66      0.68       192\n",
            "           9       0.72      0.75      0.74       194\n",
            "\n",
            "    accuracy                           0.79      2000\n",
            "   macro avg       0.79      0.79      0.79      2000\n",
            "weighted avg       0.79      0.79      0.79      2000\n",
            "\n"
          ]
        }
      ]
    },
    {
      "cell_type": "code",
      "source": [
        "import matplotlib.pyplot as plt\n",
        "import seaborn as sns\n",
        "\n",
        "# Calculate confusion matrix and print it\n",
        "def calculate_confusion_matrix(true_labels, predicted_labels):\n",
        "    cm = confusion_matrix(true_labels, predicted_labels)\n",
        "    return cm\n",
        "\n",
        "# Plot confusion matrix\n",
        "def plot_confusion_matrix(conf_matrix):\n",
        "    plt.figure(figsize=(8, 6))\n",
        "    sns.heatmap(conf_matrix, annot=True, fmt=\"d\", cmap=\"Blues\", cbar=False)\n",
        "    plt.title(\"Confusion Matrix\")\n",
        "    plt.xlabel(\"Predicted Labels\")\n",
        "    plt.ylabel(\"True Labels\")\n",
        "    plt.show()\n",
        "\n",
        "# Plot confusion matrix\n",
        "plot_confusion_matrix(confusion_mat)\n"
      ],
      "metadata": {
        "colab": {
          "base_uri": "https://localhost:8080/",
          "height": 564
        },
        "id": "P6jOwJWimLHt",
        "outputId": "3389ec9d-3204-42cb-bbd9-9bd6ff52134b"
      },
      "execution_count": null,
      "outputs": [
        {
          "output_type": "display_data",
          "data": {
            "text/plain": [
              "<Figure size 800x600 with 1 Axes>"
            ],
            "image/png": "[encoded data removed]"
          },
          "metadata": {}
        }
      ]
    }
  ]
}